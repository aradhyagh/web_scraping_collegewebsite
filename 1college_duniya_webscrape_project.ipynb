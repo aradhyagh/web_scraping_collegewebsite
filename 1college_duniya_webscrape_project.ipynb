{
 "cells": [
  {
   "cell_type": "code",
   "execution_count": 1,
   "id": "d4e9251d",
   "metadata": {},
   "outputs": [],
   "source": [
    "# importing the required libraries\n",
    "import pandas as pd\n",
    "from bs4 import BeautifulSoup\n",
    "import requests"
   ]
  },
  {
   "cell_type": "code",
   "execution_count": 2,
   "id": "94b7540b",
   "metadata": {},
   "outputs": [],
   "source": [
    "# calling out the headers and defining the url\n",
    "headers = {\"User-Agent\": 'Mozilla/5.0 (Windows NT 10.0; Win64; x64) AppleWebKit/537.36 (KHTML, like Gecko) Chrome/94.0.4606.81 Safari/537.36'}\n",
    "url = \"https://collegedunia.com/reviews/page-2\""
   ]
  },
  {
   "cell_type": "code",
   "execution_count": 3,
   "id": "1b745744",
   "metadata": {},
   "outputs": [],
   "source": [
    "# setting up a webpage\n",
    "webpage= requests.get(url,headers=headers).text"
   ]
  },
  {
   "cell_type": "code",
   "execution_count": 4,
   "id": "70bffc58",
   "metadata": {
    "scrolled": true
   },
   "outputs": [],
   "source": [
    "# using BeautifulSoup on a webpage\n",
    "soup = BeautifulSoup(webpage)"
   ]
  },
  {
   "cell_type": "code",
   "execution_count": 5,
   "id": "93b2248e",
   "metadata": {},
   "outputs": [],
   "source": [
    "# scrapping the data\n",
    "for i in soup.find_all(\"a\",class_=\"CGtC98\"):\n",
    "    print(i.text.strip())"
   ]
  },
  {
   "cell_type": "code",
   "execution_count": 6,
   "id": "41463cfb",
   "metadata": {
    "scrolled": true
   },
   "outputs": [
    {
     "data": {
      "text/plain": [
       "[<a class=\"user-name pointer\" data-college_section_name=\"reviews\" data-csm-title=\"Brahmansh singal\" data-ga-href=\"reviews/922658-brahmansh-singal-review-on-bhagwan-mahavir-university-bmu-surat\" data-ga-module=\"college_detail\" data-ga-section=\"The positiveness of Bhagwan Mahavir\" data-ga-title=\"Brahmansh singal\" data-ga-track=\"true\" href=\"/reviews/922658-brahmansh-singal-review-on-bhagwan-mahavir-university-bmu-surat\">Brahmansh singal</a>,\n",
       " <a class=\"user-name pointer\" data-college_section_name=\"reviews\" data-csm-title=\"Anaswara shailesh\" data-ga-href=\"reviews/922656-anaswara-shailesh-review-on-scms-school-of-engineering-and-technology-sset-ernakulam\" data-ga-module=\"college_detail\" data-ga-section=\"SCMS SCHOOL OF ENGINEERING\" data-ga-title=\"Anaswara shailesh\" data-ga-track=\"true\" href=\"/reviews/922656-anaswara-shailesh-review-on-scms-school-of-engineering-and-technology-sset-ernakulam\">Anaswara shailesh</a>,\n",
       " <a class=\"user-name pointer\" data-college_section_name=\"reviews\" data-csm-title=\"Kesa surya\" data-ga-href=\"reviews/922654-kesa-surya-review-on-kamala-institute-of-technology-and-science-kits-karimnagar\" data-ga-module=\"college_detail\" data-ga-section=\"Review the kits collage\" data-ga-title=\"Kesa surya\" data-ga-track=\"true\" href=\"/reviews/922654-kesa-surya-review-on-kamala-institute-of-technology-and-science-kits-karimnagar\">Kesa surya</a>,\n",
       " <a class=\"user-name pointer\" data-college_section_name=\"reviews\" data-csm-title=\"Rishika dubey\" data-ga-href=\"reviews/922653-rishika-dubey-review-on-dr-d-y-patil-school-of-design-pune\" data-ga-module=\"college_detail\" data-ga-section=\"Wings to success\" data-ga-title=\"Rishika dubey\" data-ga-track=\"true\" href=\"/reviews/922653-rishika-dubey-review-on-dr-d-y-patil-school-of-design-pune\">Rishika dubey</a>,\n",
       " <a class=\"user-name pointer\" data-college_section_name=\"reviews\" data-csm-title=\"Kajal\" data-ga-href=\"reviews/922650-kajal-review-on-lnct-group-of-colleges-lnct-bhopal\" data-ga-module=\"college_detail\" data-ga-section=\"LNCT - A Brand Of Discipline \" data-ga-title=\"Kajal\" data-ga-track=\"true\" href=\"/reviews/922650-kajal-review-on-lnct-group-of-colleges-lnct-bhopal\">Kajal</a>,\n",
       " <a class=\"user-name pointer\" data-college_section_name=\"reviews\" data-csm-title=\"Kanika Mishra\" data-ga-href=\"reviews/922648-kanika-mishra-review-on-vellore-institute-of-technology-vit-university-vellore\" data-ga-module=\"college_detail\" data-ga-section=\"Know the truth n join. VIT\" data-ga-title=\"Kanika Mishra\" data-ga-track=\"true\" href=\"/reviews/922648-kanika-mishra-review-on-vellore-institute-of-technology-vit-university-vellore\">Kanika Mishra</a>,\n",
       " <a class=\"user-name pointer\" data-college_section_name=\"reviews\" data-csm-title=\"sushmitha\" data-ga-href=\"reviews/922643-sushmitha-review-on-adichunchanagiri-institute-of-technology-ait-chikmagalur\" data-ga-module=\"college_detail\" data-ga-section=\"How AIT college helped me Grow as a Person\" data-ga-title=\"sushmitha\" data-ga-track=\"true\" href=\"/reviews/922643-sushmitha-review-on-adichunchanagiri-institute-of-technology-ait-chikmagalur\">sushmitha</a>,\n",
       " <a class=\"user-name pointer\" data-college_section_name=\"reviews\" data-csm-title=\"Saparu USHA RANI\" data-ga-href=\"reviews/922641-saparu-usha-rani-review-on-andhra-university-college-of-science-and-technology-visakhapatnam\" data-ga-module=\"college_detail\" data-ga-section=\" Campus life \" data-ga-title=\"Saparu USHA RANI\" data-ga-track=\"true\" href=\"/reviews/922641-saparu-usha-rani-review-on-andhra-university-college-of-science-and-technology-visakhapatnam\">Saparu USHA RANI</a>,\n",
       " <a class=\"user-name pointer\" data-college_section_name=\"reviews\" data-csm-title=\"Saaim nayeem\" data-ga-href=\"reviews/922636-saaim-nayeem-review-on-dr-d-y-patil-school-of-design-pune\" data-ga-module=\"college_detail\" data-ga-section=\"Everything True\" data-ga-title=\"Saaim nayeem\" data-ga-track=\"true\" href=\"/reviews/922636-saaim-nayeem-review-on-dr-d-y-patil-school-of-design-pune\">Saaim nayeem</a>,\n",
       " <a class=\"user-name pointer\" data-college_section_name=\"reviews\" data-csm-title=\"VAIBHAVI RAVINDRA TELANG\" data-ga-href=\"reviews/922631-vaibhavi-ravindra-telang-review-on-dr-d-y-patil-school-of-design-pune\" data-ga-module=\"college_detail\" data-ga-section=\"Design is not just art, its solving problems creatively.\" data-ga-title=\"VAIBHAVI RAVINDRA TELANG\" data-ga-track=\"true\" href=\"/reviews/922631-vaibhavi-ravindra-telang-review-on-dr-d-y-patil-school-of-design-pune\">VAIBHAVI RAVINDRA TELANG</a>,\n",
       " <a class=\"user-name pointer\" data-college_section_name=\"reviews\" data-csm-title=\"Parth Andhale\" data-ga-href=\"reviews/922630-parth-andhale-review-on-smt-kashibai-navale-medical-college-and-general-hospital-sknmcgh-pune\" data-ga-module=\"college_detail\" data-ga-section=\"SKNMC Makes you a Doctor !\" data-ga-title=\"Parth Andhale\" data-ga-track=\"true\" href=\"/reviews/922630-parth-andhale-review-on-smt-kashibai-navale-medical-college-and-general-hospital-sknmcgh-pune\">Parth Andhale</a>,\n",
       " <a class=\"user-name pointer\" data-college_section_name=\"reviews\" data-csm-title=\"Anmol Trivedi\" data-ga-href=\"reviews/922628-anmol-trivedi-review-on-sri-aurobindo-institute-of-technology-sait-indore\" data-ga-module=\"college_detail\" data-ga-section=\"Sri Aurobindo Institute of Technology complete review\" data-ga-title=\"Anmol Trivedi\" data-ga-track=\"true\" href=\"/reviews/922628-anmol-trivedi-review-on-sri-aurobindo-institute-of-technology-sait-indore\">Anmol Trivedi</a>,\n",
       " <a class=\"user-name pointer\" data-college_section_name=\"reviews\" data-csm-title=\"Paritosh maurya\" data-ga-href=\"reviews/922627-paritosh-maurya-review-on-dronacharya-group-of-institutions-dgi-greater-noida\" data-ga-module=\"college_detail\" data-ga-section=\"Experience from a fresher\" data-ga-title=\"Paritosh maurya\" data-ga-track=\"true\" href=\"/reviews/922627-paritosh-maurya-review-on-dronacharya-group-of-institutions-dgi-greater-noida\">Paritosh maurya</a>,\n",
       " <a class=\"user-name pointer\" data-college_section_name=\"reviews\" data-csm-title=\"JAHANAVI SONI\" data-ga-href=\"reviews/922626-jahanavi-soni-review-on-g-l-bajaj-institute-of-technology-and-management-greater-noida\" data-ga-module=\"college_detail\" data-ga-section=\"GL Bajaj is the college you're searching for\" data-ga-title=\"JAHANAVI SONI\" data-ga-track=\"true\" href=\"/reviews/922626-jahanavi-soni-review-on-g-l-bajaj-institute-of-technology-and-management-greater-noida\">JAHANAVI SONI</a>,\n",
       " <a class=\"user-name pointer\" data-college_section_name=\"reviews\" data-csm-title=\"Ganesh reddy\" data-ga-href=\"reviews/922624-ganesh-reddy-review-on-sanskriti-university-su-mathura\" data-ga-module=\"college_detail\" data-ga-section=\"I provided my level best in campus life and lot of their to say\" data-ga-title=\"Ganesh reddy\" data-ga-track=\"true\" href=\"/reviews/922624-ganesh-reddy-review-on-sanskriti-university-su-mathura\">Ganesh reddy</a>,\n",
       " <a class=\"user-name pointer\" data-college_section_name=\"reviews\" data-csm-title=\"Yuvraj Tiwari\" data-ga-href=\"reviews/922623-yuvraj-tiwari-review-on-pranveer-singh-institute-of-technology-psit-kanpur\" data-ga-module=\"college_detail\" data-ga-section=\"College review\" data-ga-title=\"Yuvraj Tiwari\" data-ga-track=\"true\" href=\"/reviews/922623-yuvraj-tiwari-review-on-pranveer-singh-institute-of-technology-psit-kanpur\">Yuvraj Tiwari</a>,\n",
       " <a class=\"user-name pointer\" data-college_section_name=\"reviews\" data-csm-title=\"Abhishek kuri\" data-ga-href=\"reviews/922621-abhishek-kuri-review-on-maharani-laxmi-bai-medical-college-jhansi\" data-ga-module=\"college_detail\" data-ga-section=\"Abhishek review \" data-ga-title=\"Abhishek kuri\" data-ga-track=\"true\" href=\"/reviews/922621-abhishek-kuri-review-on-maharani-laxmi-bai-medical-college-jhansi\">Abhishek kuri</a>,\n",
       " <a class=\"user-name pointer\" data-college_section_name=\"reviews\" data-csm-title=\"BANOTHU TRINADH\" data-ga-href=\"reviews/922619-banothu-trinadh-review-on-indian-institute-of-information-technology-sri-city-iiit-sri-city\" data-ga-module=\"college_detail\" data-ga-section=\"Iiit sri city \" data-ga-title=\"BANOTHU TRINADH\" data-ga-track=\"true\" href=\"/reviews/922619-banothu-trinadh-review-on-indian-institute-of-information-technology-sri-city-iiit-sri-city\">BANOTHU TRINADH</a>,\n",
       " <a class=\"user-name pointer\" data-college_section_name=\"reviews\" data-csm-title=\"Review Rebel\" data-ga-href=\"reviews/922617-student-review-on-lnct-group-of-colleges-lnct-bhopal\" data-ga-module=\"college_detail\" data-ga-section=\"Read this before taking admission in LNCT\" data-ga-title=\"Review Rebel\" data-ga-track=\"true\" href=\"/reviews/922617-student-review-on-lnct-group-of-colleges-lnct-bhopal\">Review Rebel</a>,\n",
       " <a class=\"user-name pointer\" data-college_section_name=\"reviews\" data-csm-title=\"Shivansh Patel\" data-ga-href=\"reviews/922612-shivansh-patel-review-on-pranveer-singh-institute-of-technology-psit-kanpur\" data-ga-module=\"college_detail\" data-ga-section=\"PSIT the strict but helpful college\" data-ga-title=\"Shivansh Patel\" data-ga-track=\"true\" href=\"/reviews/922612-shivansh-patel-review-on-pranveer-singh-institute-of-technology-psit-kanpur\">Shivansh Patel</a>]"
      ]
     },
     "execution_count": 6,
     "metadata": {},
     "output_type": "execute_result"
    }
   ],
   "source": [
    "soup.find_all(\"a\",class_=\"user-name pointer\")"
   ]
  },
  {
   "cell_type": "code",
   "execution_count": 7,
   "id": "cfd0698a",
   "metadata": {},
   "outputs": [
    {
     "data": {
      "text/plain": [
       "['Brahmansh singal',\n",
       " 'Anaswara shailesh',\n",
       " 'Kesa surya',\n",
       " 'Rishika dubey',\n",
       " 'Kajal',\n",
       " 'Kanika Mishra',\n",
       " 'sushmitha',\n",
       " 'Saparu USHA RANI',\n",
       " 'Saaim nayeem',\n",
       " 'VAIBHAVI RAVINDRA TELANG',\n",
       " 'Parth Andhale',\n",
       " 'Anmol Trivedi',\n",
       " 'Paritosh maurya',\n",
       " 'JAHANAVI SONI',\n",
       " 'Ganesh reddy',\n",
       " 'Yuvraj Tiwari',\n",
       " 'Abhishek kuri',\n",
       " 'BANOTHU TRINADH',\n",
       " 'Review Rebel',\n",
       " 'Shivansh Patel']"
      ]
     },
     "execution_count": 7,
     "metadata": {},
     "output_type": "execute_result"
    }
   ],
   "source": [
    "# making an empty list \"student_name\"\n",
    "student_name=[]\n",
    "\n",
    "# appending the scraped data in the list student_name\n",
    "for i in soup.find_all(\"a\",class_=\"user-name pointer\"):\n",
    "    student_name.append(i.text.strip())\n",
    "    \n",
    "student_name"
   ]
  },
  {
   "cell_type": "code",
   "execution_count": 8,
   "id": "8bfab6d7",
   "metadata": {},
   "outputs": [
    {
     "data": {
      "text/plain": [
       "['BA, English',\n",
       " 'B.Tech, Computer Science and Engineering',\n",
       " 'B.Tech, Computer Science and Engineering',\n",
       " 'B.Des, Interior Design',\n",
       " 'B.Tech {Lateral}, Internet of Things & Cyber Security Including Blockchain Technology',\n",
       " 'B.Tech, Mechanical Engineering',\n",
       " 'BE, Information Science & Engineering',\n",
       " 'M.Sc, Botany',\n",
       " 'B.Sc {Hons.}, Interior Design',\n",
       " 'B.Des, Product Design',\n",
       " 'MBBS',\n",
       " 'B.Tech, Artificial Intelligence & Machine Learning',\n",
       " 'B.Tech, Information Technology',\n",
       " 'B.Tech, Electronics & Communication Engineering',\n",
       " 'B.Tech, Computer Science and Engineering',\n",
       " 'B.Tech, Computer Science and Engineering',\n",
       " 'MBBS',\n",
       " 'B.Tech, Electronics & Communication Engineering',\n",
       " 'BE, Electronics & Communication Engineering',\n",
       " 'B.Tech, Computer Science and Engineering']"
      ]
     },
     "execution_count": 8,
     "metadata": {},
     "output_type": "execute_result"
    }
   ],
   "source": [
    "# making another empty list and applying same (appending the data in the list)\n",
    "lst=[]\n",
    "for i in soup.find_all(\"span\",class_=\"jsx-2133140133 jsx-1992814191 user-bullet-info pr-3 text-capitalize\"):\n",
    "    lst.append(i.text.strip())\n",
    "    \n",
    "lst"
   ]
  },
  {
   "cell_type": "code",
   "execution_count": 9,
   "id": "45bd3e48",
   "metadata": {},
   "outputs": [
    {
     "data": {
      "text/plain": [
       "(20, 20)"
      ]
     },
     "execution_count": 9,
     "metadata": {},
     "output_type": "execute_result"
    }
   ],
   "source": [
    "# finding the number of rows in both lists. (both should be equal)\n",
    "len(lst),len(student_name)"
   ]
  },
  {
   "cell_type": "code",
   "execution_count": 10,
   "id": "a22f9cce",
   "metadata": {},
   "outputs": [
    {
     "data": {
      "text/plain": [
       "['BA', ' English']"
      ]
     },
     "execution_count": 10,
     "metadata": {},
     "output_type": "execute_result"
    }
   ],
   "source": [
    "# just for a refrence\n",
    "x=lst[0].split(\",\")\n",
    "x"
   ]
  },
  {
   "cell_type": "code",
   "execution_count": 11,
   "id": "67afd0d9",
   "metadata": {},
   "outputs": [
    {
     "data": {
      "text/plain": [
       "'BA'"
      ]
     },
     "execution_count": 11,
     "metadata": {},
     "output_type": "execute_result"
    }
   ],
   "source": [
    "# just for a refrence\n",
    "x[0]"
   ]
  },
  {
   "cell_type": "code",
   "execution_count": 12,
   "id": "da2d2e47",
   "metadata": {},
   "outputs": [],
   "source": [
    "# making two empty lists \"specilization\", \"course_name\"\n",
    "specilization = []\n",
    "course_name=[]\n",
    "\n",
    "# appending the data from the list \"lst\" in the two new lists\n",
    "for i in lst:\n",
    "    if \",\"in i:\n",
    "        \n",
    "        new=i.split(\",\")\n",
    "        specilization.append(new[0])\n",
    "        course_name.append(new[1])\n",
    "    \n",
    "    else:\n",
    "        specilization.append(i)\n",
    "        course_name.append(\"NA\")"
   ]
  },
  {
   "cell_type": "code",
   "execution_count": 13,
   "id": "e24e7332",
   "metadata": {},
   "outputs": [
    {
     "data": {
      "text/plain": [
       "['Brahmansh singal',\n",
       " 'Anaswara shailesh',\n",
       " 'Kesa surya',\n",
       " 'Rishika dubey',\n",
       " 'Kajal',\n",
       " 'Kanika Mishra',\n",
       " 'sushmitha',\n",
       " 'Saparu USHA RANI',\n",
       " 'Saaim nayeem',\n",
       " 'VAIBHAVI RAVINDRA TELANG',\n",
       " 'Parth Andhale',\n",
       " 'Anmol Trivedi',\n",
       " 'Paritosh maurya',\n",
       " 'JAHANAVI SONI',\n",
       " 'Ganesh reddy',\n",
       " 'Yuvraj Tiwari',\n",
       " 'Abhishek kuri',\n",
       " 'BANOTHU TRINADH',\n",
       " 'Review Rebel',\n",
       " 'Shivansh Patel']"
      ]
     },
     "execution_count": 13,
     "metadata": {},
     "output_type": "execute_result"
    }
   ],
   "source": [
    "# setting up another empty list\n",
    "student_name = []\n",
    "\n",
    "# appending the scrapped data in a list\n",
    "for i in soup.find_all(\"a\", class_ = \"user-name pointer\"):\n",
    "    if i :\n",
    "        student_name.append(i.text.strip())\n",
    "    else:\n",
    "        student_name.append(\"NA\")\n",
    "        \n",
    "student_name"
   ]
  },
  {
   "cell_type": "code",
   "execution_count": 14,
   "id": "be345bdb",
   "metadata": {},
   "outputs": [],
   "source": [
    "# making a dictionary to create a data frame\n",
    "dict = {\n",
    "    \"course_name\":course_name,\n",
    "    \"degree\":specilization,\n",
    "    \"student_name\":student_name\n",
    "}"
   ]
  },
  {
   "cell_type": "code",
   "execution_count": 15,
   "id": "a214cdc5",
   "metadata": {},
   "outputs": [
    {
     "data": {
      "text/html": [
       "<div>\n",
       "<style scoped>\n",
       "    .dataframe tbody tr th:only-of-type {\n",
       "        vertical-align: middle;\n",
       "    }\n",
       "\n",
       "    .dataframe tbody tr th {\n",
       "        vertical-align: top;\n",
       "    }\n",
       "\n",
       "    .dataframe thead th {\n",
       "        text-align: right;\n",
       "    }\n",
       "</style>\n",
       "<table border=\"1\" class=\"dataframe\">\n",
       "  <thead>\n",
       "    <tr style=\"text-align: right;\">\n",
       "      <th></th>\n",
       "      <th>course_name</th>\n",
       "      <th>degree</th>\n",
       "      <th>student_name</th>\n",
       "    </tr>\n",
       "  </thead>\n",
       "  <tbody>\n",
       "    <tr>\n",
       "      <th>0</th>\n",
       "      <td>English</td>\n",
       "      <td>BA</td>\n",
       "      <td>Brahmansh singal</td>\n",
       "    </tr>\n",
       "    <tr>\n",
       "      <th>1</th>\n",
       "      <td>Computer Science and Engineering</td>\n",
       "      <td>B.Tech</td>\n",
       "      <td>Anaswara shailesh</td>\n",
       "    </tr>\n",
       "    <tr>\n",
       "      <th>2</th>\n",
       "      <td>Computer Science and Engineering</td>\n",
       "      <td>B.Tech</td>\n",
       "      <td>Kesa surya</td>\n",
       "    </tr>\n",
       "    <tr>\n",
       "      <th>3</th>\n",
       "      <td>Interior Design</td>\n",
       "      <td>B.Des</td>\n",
       "      <td>Rishika dubey</td>\n",
       "    </tr>\n",
       "    <tr>\n",
       "      <th>4</th>\n",
       "      <td>Internet of Things &amp; Cyber Security Including...</td>\n",
       "      <td>B.Tech {Lateral}</td>\n",
       "      <td>Kajal</td>\n",
       "    </tr>\n",
       "    <tr>\n",
       "      <th>5</th>\n",
       "      <td>Mechanical Engineering</td>\n",
       "      <td>B.Tech</td>\n",
       "      <td>Kanika Mishra</td>\n",
       "    </tr>\n",
       "    <tr>\n",
       "      <th>6</th>\n",
       "      <td>Information Science &amp; Engineering</td>\n",
       "      <td>BE</td>\n",
       "      <td>sushmitha</td>\n",
       "    </tr>\n",
       "    <tr>\n",
       "      <th>7</th>\n",
       "      <td>Botany</td>\n",
       "      <td>M.Sc</td>\n",
       "      <td>Saparu USHA RANI</td>\n",
       "    </tr>\n",
       "    <tr>\n",
       "      <th>8</th>\n",
       "      <td>Interior Design</td>\n",
       "      <td>B.Sc {Hons.}</td>\n",
       "      <td>Saaim nayeem</td>\n",
       "    </tr>\n",
       "    <tr>\n",
       "      <th>9</th>\n",
       "      <td>Product Design</td>\n",
       "      <td>B.Des</td>\n",
       "      <td>VAIBHAVI RAVINDRA TELANG</td>\n",
       "    </tr>\n",
       "    <tr>\n",
       "      <th>10</th>\n",
       "      <td>NA</td>\n",
       "      <td>MBBS</td>\n",
       "      <td>Parth Andhale</td>\n",
       "    </tr>\n",
       "    <tr>\n",
       "      <th>11</th>\n",
       "      <td>Artificial Intelligence &amp; Machine Learning</td>\n",
       "      <td>B.Tech</td>\n",
       "      <td>Anmol Trivedi</td>\n",
       "    </tr>\n",
       "    <tr>\n",
       "      <th>12</th>\n",
       "      <td>Information Technology</td>\n",
       "      <td>B.Tech</td>\n",
       "      <td>Paritosh maurya</td>\n",
       "    </tr>\n",
       "    <tr>\n",
       "      <th>13</th>\n",
       "      <td>Electronics &amp; Communication Engineering</td>\n",
       "      <td>B.Tech</td>\n",
       "      <td>JAHANAVI SONI</td>\n",
       "    </tr>\n",
       "    <tr>\n",
       "      <th>14</th>\n",
       "      <td>Computer Science and Engineering</td>\n",
       "      <td>B.Tech</td>\n",
       "      <td>Ganesh reddy</td>\n",
       "    </tr>\n",
       "    <tr>\n",
       "      <th>15</th>\n",
       "      <td>Computer Science and Engineering</td>\n",
       "      <td>B.Tech</td>\n",
       "      <td>Yuvraj Tiwari</td>\n",
       "    </tr>\n",
       "    <tr>\n",
       "      <th>16</th>\n",
       "      <td>NA</td>\n",
       "      <td>MBBS</td>\n",
       "      <td>Abhishek kuri</td>\n",
       "    </tr>\n",
       "    <tr>\n",
       "      <th>17</th>\n",
       "      <td>Electronics &amp; Communication Engineering</td>\n",
       "      <td>B.Tech</td>\n",
       "      <td>BANOTHU TRINADH</td>\n",
       "    </tr>\n",
       "    <tr>\n",
       "      <th>18</th>\n",
       "      <td>Electronics &amp; Communication Engineering</td>\n",
       "      <td>BE</td>\n",
       "      <td>Review Rebel</td>\n",
       "    </tr>\n",
       "    <tr>\n",
       "      <th>19</th>\n",
       "      <td>Computer Science and Engineering</td>\n",
       "      <td>B.Tech</td>\n",
       "      <td>Shivansh Patel</td>\n",
       "    </tr>\n",
       "  </tbody>\n",
       "</table>\n",
       "</div>"
      ],
      "text/plain": [
       "                                          course_name            degree  \\\n",
       "0                                             English                BA   \n",
       "1                    Computer Science and Engineering            B.Tech   \n",
       "2                    Computer Science and Engineering            B.Tech   \n",
       "3                                     Interior Design             B.Des   \n",
       "4    Internet of Things & Cyber Security Including...  B.Tech {Lateral}   \n",
       "5                              Mechanical Engineering            B.Tech   \n",
       "6                   Information Science & Engineering                BE   \n",
       "7                                              Botany              M.Sc   \n",
       "8                                     Interior Design      B.Sc {Hons.}   \n",
       "9                                      Product Design             B.Des   \n",
       "10                                                 NA              MBBS   \n",
       "11         Artificial Intelligence & Machine Learning            B.Tech   \n",
       "12                             Information Technology            B.Tech   \n",
       "13            Electronics & Communication Engineering            B.Tech   \n",
       "14                   Computer Science and Engineering            B.Tech   \n",
       "15                   Computer Science and Engineering            B.Tech   \n",
       "16                                                 NA              MBBS   \n",
       "17            Electronics & Communication Engineering            B.Tech   \n",
       "18            Electronics & Communication Engineering                BE   \n",
       "19                   Computer Science and Engineering            B.Tech   \n",
       "\n",
       "                student_name  \n",
       "0           Brahmansh singal  \n",
       "1          Anaswara shailesh  \n",
       "2                 Kesa surya  \n",
       "3              Rishika dubey  \n",
       "4                      Kajal  \n",
       "5              Kanika Mishra  \n",
       "6                  sushmitha  \n",
       "7           Saparu USHA RANI  \n",
       "8               Saaim nayeem  \n",
       "9   VAIBHAVI RAVINDRA TELANG  \n",
       "10             Parth Andhale  \n",
       "11             Anmol Trivedi  \n",
       "12           Paritosh maurya  \n",
       "13             JAHANAVI SONI  \n",
       "14              Ganesh reddy  \n",
       "15             Yuvraj Tiwari  \n",
       "16             Abhishek kuri  \n",
       "17           BANOTHU TRINADH  \n",
       "18              Review Rebel  \n",
       "19            Shivansh Patel  "
      ]
     },
     "execution_count": 15,
     "metadata": {},
     "output_type": "execute_result"
    }
   ],
   "source": [
    "# creating a dataframe of the dictionary\n",
    "df=pd.DataFrame(dict)\n",
    "df"
   ]
  },
  {
   "cell_type": "code",
   "execution_count": 16,
   "id": "2714948d",
   "metadata": {},
   "outputs": [],
   "source": [
    "# for multiple pages we need to run the loop while repeating the entire steps\n",
    "\n",
    "# creating the lists\n",
    "degree = []\n",
    "course_name=[]\n",
    "student_name=[]\n",
    "\n",
    "# appending the data in the lists degree and course_name\n",
    "for i in range(1,6):\n",
    "    url = f\"https://collegedunia.com/reviews/page-{i}\"\n",
    "    headers = {\"User-Agent\": 'Mozilla/5.0 (Windows NT 10.0; Win64; x64) AppleWebKit/537.36 (KHTML, like Gecko) Chrome/94.0.4606.81 Safari/537.36'}\n",
    "    webpage= requests.get(url,headers=headers).text\n",
    "    soup = BeautifulSoup(webpage,\"lxml\")\n",
    "    \n",
    "    for i in soup.find_all(\"span\",class_=\"jsx-2133140133 jsx-1992814191 user-bullet-info pr-3 text-capitalize\"):\n",
    "        if i:\n",
    "            if \",\" in i.text:\n",
    "                new=i.text.split(\",\")\n",
    "                degree.append(new[0])\n",
    "                course_name.append(new[1])\n",
    "            else:\n",
    "                degree.append(i.text)\n",
    "                course_name.append(\"NA\")\n",
    "        else:\n",
    "            degree.append(\"NA\")\n",
    "            course_name.append(\"NA\")\n",
    "            \n",
    "    "
   ]
  },
  {
   "cell_type": "code",
   "execution_count": 17,
   "id": "b9527d89",
   "metadata": {},
   "outputs": [],
   "source": [
    "# for student name we have another loop\n",
    "for i in range(1,6):\n",
    "    url = f\"https://collegedunia.com/reviews/page-{i}\"\n",
    "    headers = {\"User-Agent\": 'Mozilla/5.0 (Windows NT 10.0; Win64; x64) AppleWebKit/537.36 (KHTML, like Gecko) Chrome/94.0.4606.81 Safari/537.36'}\n",
    "    webpage= requests.get(url,headers=headers).text\n",
    "    soup = BeautifulSoup(webpage,\"lxml\")\n",
    "    \n",
    "    \n",
    "    for i in soup.find_all(\"a\",class_=\"user-name pointer\"):\n",
    "        student_name.append(i.text.strip())"
   ]
  },
  {
   "cell_type": "code",
   "execution_count": 18,
   "id": "8e2be28d",
   "metadata": {},
   "outputs": [
    {
     "data": {
      "text/plain": [
       "(100, 100, 100)"
      ]
     },
     "execution_count": 18,
     "metadata": {},
     "output_type": "execute_result"
    }
   ],
   "source": [
    "# findiing teh number of rows in each list (all should be equal)\n",
    "len(degree),len(course_name),len(student_name)"
   ]
  },
  {
   "cell_type": "code",
   "execution_count": 19,
   "id": "e4e5df52",
   "metadata": {},
   "outputs": [
    {
     "data": {
      "text/html": [
       "<div>\n",
       "<style scoped>\n",
       "    .dataframe tbody tr th:only-of-type {\n",
       "        vertical-align: middle;\n",
       "    }\n",
       "\n",
       "    .dataframe tbody tr th {\n",
       "        vertical-align: top;\n",
       "    }\n",
       "\n",
       "    .dataframe thead th {\n",
       "        text-align: right;\n",
       "    }\n",
       "</style>\n",
       "<table border=\"1\" class=\"dataframe\">\n",
       "  <thead>\n",
       "    <tr style=\"text-align: right;\">\n",
       "      <th></th>\n",
       "      <th>course_name</th>\n",
       "      <th>degree</th>\n",
       "      <th>student_name</th>\n",
       "    </tr>\n",
       "  </thead>\n",
       "  <tbody>\n",
       "    <tr>\n",
       "      <th>0</th>\n",
       "      <td>Cyber Security</td>\n",
       "      <td>BE</td>\n",
       "      <td>Shaik FarjuTaj</td>\n",
       "    </tr>\n",
       "    <tr>\n",
       "      <th>1</th>\n",
       "      <td>NA</td>\n",
       "      <td>B.Pharm</td>\n",
       "      <td>Tejas Chittappa C T</td>\n",
       "    </tr>\n",
       "    <tr>\n",
       "      <th>2</th>\n",
       "      <td>Civil Engineering</td>\n",
       "      <td>B.Tech</td>\n",
       "      <td>Mridul sharma</td>\n",
       "    </tr>\n",
       "    <tr>\n",
       "      <th>3</th>\n",
       "      <td>Computer Science</td>\n",
       "      <td>B.Tech</td>\n",
       "      <td>Sanya singh</td>\n",
       "    </tr>\n",
       "    <tr>\n",
       "      <th>4</th>\n",
       "      <td>General</td>\n",
       "      <td>B.Com</td>\n",
       "      <td>Thanushree</td>\n",
       "    </tr>\n",
       "    <tr>\n",
       "      <th>...</th>\n",
       "      <td>...</td>\n",
       "      <td>...</td>\n",
       "      <td>...</td>\n",
       "    </tr>\n",
       "    <tr>\n",
       "      <th>95</th>\n",
       "      <td>Geology</td>\n",
       "      <td>M.Sc</td>\n",
       "      <td>Thungdeno Tsopoe</td>\n",
       "    </tr>\n",
       "    <tr>\n",
       "      <th>96</th>\n",
       "      <td>Electronics &amp; Communication Engineering</td>\n",
       "      <td>B.Tech</td>\n",
       "      <td>Vamsi</td>\n",
       "    </tr>\n",
       "    <tr>\n",
       "      <th>97</th>\n",
       "      <td>Mechanical Engineering</td>\n",
       "      <td>Polytechnic</td>\n",
       "      <td>Nikhil</td>\n",
       "    </tr>\n",
       "    <tr>\n",
       "      <th>98</th>\n",
       "      <td>Computer Science and Engineering</td>\n",
       "      <td>B.Tech</td>\n",
       "      <td>Ekta Rai</td>\n",
       "    </tr>\n",
       "    <tr>\n",
       "      <th>99</th>\n",
       "      <td>NA</td>\n",
       "      <td>B.Pharm</td>\n",
       "      <td>R ganesh</td>\n",
       "    </tr>\n",
       "  </tbody>\n",
       "</table>\n",
       "<p>100 rows × 3 columns</p>\n",
       "</div>"
      ],
      "text/plain": [
       "                                 course_name       degree         student_name\n",
       "0                             Cyber Security           BE       Shaik FarjuTaj\n",
       "1                                         NA      B.Pharm  Tejas Chittappa C T\n",
       "2                          Civil Engineering       B.Tech        Mridul sharma\n",
       "3                           Computer Science       B.Tech          Sanya singh\n",
       "4                                    General        B.Com           Thanushree\n",
       "..                                       ...          ...                  ...\n",
       "95                                   Geology         M.Sc     Thungdeno Tsopoe\n",
       "96   Electronics & Communication Engineering       B.Tech                Vamsi\n",
       "97                    Mechanical Engineering  Polytechnic               Nikhil\n",
       "98          Computer Science and Engineering       B.Tech             Ekta Rai\n",
       "99                                        NA      B.Pharm             R ganesh\n",
       "\n",
       "[100 rows x 3 columns]"
      ]
     },
     "execution_count": 19,
     "metadata": {},
     "output_type": "execute_result"
    }
   ],
   "source": [
    "# creating the new dictionary again as dict and making a datafram of the dictionary\n",
    "dict = {\n",
    "    \"course_name\":course_name,\n",
    "    \"degree\":degree,\n",
    "    \"student_name\":student_name\n",
    "}\n",
    "\n",
    "df=pd.DataFrame(dict)\n",
    "df"
   ]
  },
  {
   "cell_type": "code",
   "execution_count": 20,
   "id": "52485659",
   "metadata": {},
   "outputs": [
    {
     "data": {
      "text/html": [
       "<div>\n",
       "<style scoped>\n",
       "    .dataframe tbody tr th:only-of-type {\n",
       "        vertical-align: middle;\n",
       "    }\n",
       "\n",
       "    .dataframe tbody tr th {\n",
       "        vertical-align: top;\n",
       "    }\n",
       "\n",
       "    .dataframe thead th {\n",
       "        text-align: right;\n",
       "    }\n",
       "</style>\n",
       "<table border=\"1\" class=\"dataframe\">\n",
       "  <thead>\n",
       "    <tr style=\"text-align: right;\">\n",
       "      <th></th>\n",
       "      <th>course_name</th>\n",
       "      <th>degree</th>\n",
       "      <th>student_name</th>\n",
       "    </tr>\n",
       "  </thead>\n",
       "  <tbody>\n",
       "    <tr>\n",
       "      <th>95</th>\n",
       "      <td>Geology</td>\n",
       "      <td>M.Sc</td>\n",
       "      <td>Thungdeno Tsopoe</td>\n",
       "    </tr>\n",
       "    <tr>\n",
       "      <th>96</th>\n",
       "      <td>Electronics &amp; Communication Engineering</td>\n",
       "      <td>B.Tech</td>\n",
       "      <td>Vamsi</td>\n",
       "    </tr>\n",
       "    <tr>\n",
       "      <th>97</th>\n",
       "      <td>Mechanical Engineering</td>\n",
       "      <td>Polytechnic</td>\n",
       "      <td>Nikhil</td>\n",
       "    </tr>\n",
       "    <tr>\n",
       "      <th>98</th>\n",
       "      <td>Computer Science and Engineering</td>\n",
       "      <td>B.Tech</td>\n",
       "      <td>Ekta Rai</td>\n",
       "    </tr>\n",
       "    <tr>\n",
       "      <th>99</th>\n",
       "      <td>NA</td>\n",
       "      <td>B.Pharm</td>\n",
       "      <td>R ganesh</td>\n",
       "    </tr>\n",
       "  </tbody>\n",
       "</table>\n",
       "</div>"
      ],
      "text/plain": [
       "                                 course_name       degree      student_name\n",
       "95                                   Geology         M.Sc  Thungdeno Tsopoe\n",
       "96   Electronics & Communication Engineering       B.Tech             Vamsi\n",
       "97                    Mechanical Engineering  Polytechnic            Nikhil\n",
       "98          Computer Science and Engineering       B.Tech          Ekta Rai\n",
       "99                                        NA      B.Pharm          R ganesh"
      ]
     },
     "execution_count": 20,
     "metadata": {},
     "output_type": "execute_result"
    }
   ],
   "source": [
    "df.tail()"
   ]
  },
  {
   "cell_type": "code",
   "execution_count": 21,
   "id": "73f5f6c3",
   "metadata": {},
   "outputs": [],
   "source": [
    "df.to_csv('extracted_colleged_data.csv', index=False)  # Setting up index=False to avoid writing row indices"
   ]
  },
  {
   "cell_type": "code",
   "execution_count": null,
   "id": "c6960b77-e989-4816-9e83-fa41e5c46b1d",
   "metadata": {},
   "outputs": [],
   "source": []
  },
  {
   "cell_type": "code",
   "execution_count": null,
   "id": "28075d0b-3751-452e-8f47-c04aa9d9cf5e",
   "metadata": {},
   "outputs": [],
   "source": []
  },
  {
   "cell_type": "code",
   "execution_count": null,
   "id": "00fe24a1-a683-4f6f-90d1-2bcbbf1848f6",
   "metadata": {},
   "outputs": [],
   "source": []
  }
 ],
 "metadata": {
  "kernelspec": {
   "display_name": "Python 3 (ipykernel)",
   "language": "python",
   "name": "python3"
  },
  "language_info": {
   "codemirror_mode": {
    "name": "ipython",
    "version": 3
   },
   "file_extension": ".py",
   "mimetype": "text/x-python",
   "name": "python",
   "nbconvert_exporter": "python",
   "pygments_lexer": "ipython3",
   "version": "3.12.6"
  }
 },
 "nbformat": 4,
 "nbformat_minor": 5
}
